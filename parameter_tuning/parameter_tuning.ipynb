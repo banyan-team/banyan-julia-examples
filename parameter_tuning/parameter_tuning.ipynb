{
 "cells": [
  {
   "cell_type": "markdown",
   "metadata": {},
   "source": [
    "# Parameter Tuning\n",
    "\n",
    "In this notebook, we will walk through an example of using BanyanArrays to\n",
    "assess the effectiveness of several sets of parameters."
   ]
  },
  {
   "cell_type": "markdown",
   "metadata": {},
   "source": [
    "## Configuring\n",
    "\n",
    "We will use Banyan to perform some data analysis on the Iris Dataset. To run this\n",
    "example, please ensure that you have set up your Banyan account.\n",
    "\n",
    "Run the first cell below to import `Banyan` and `BanyanDataFrames`.\n",
    "To configure your AWS credentials, run the second cell below and provide your\n",
    "AWS credentials when prompted. Banyan does not save your AWS credentials, but\n",
    "they are needed so that you can run your computation in your AWS account.\n",
    "Finally, run the third cell below to set your Banyan credentials and configure\n",
    "Banyan.\n",
    "\n",
    "You must pass your User ID and API Key to the `configure` function in order\n",
    "to authenticate. You can find this information on the Account page of the\n",
    "Banyan Dashboard. After running this cell, your credentials will be saved\n",
    "in `$HOME/.banyan/banyanconfig.toml` and will be read from that file in the\n",
    "future. This means that you only need to run this cell once."
   ]
  },
  {
   "cell_type": "code",
   "execution_count": 50,
   "metadata": {},
   "outputs": [],
   "source": [
    "# Import libraries\n",
    "using Banyan\n",
    "using BanyanArrays\n",
    "\n",
    "# Import helper code\n",
    "using(\"parameters.jl\")"
   ]
  },
  {
   "cell_type": "code",
   "execution_count": null,
   "metadata": {},
   "outputs": [],
   "source": [
    "# Run this cell to configure the AWS CLI. When prompted, specify your AWS\n",
    "# credentials for the AWS account that you connected with Banyan. If you have\n",
    "# already configured the AWS CLI with the credentials for the account you have\n",
    "# configured with your Banyan account, you can skip this step.\n",
    "\n",
    "print(\"Enter AWS_ACCESS_KEY_ID: \\n\"); sleep(1)\n",
    "ENV[\"AWS_ACCESS_KEY_ID\"] = readline()\n",
    "print(\"Enter AWS_SECRET_ACCESS_KEY: \\n\"); sleep(1)\n",
    "ENV[\"AWS_SECRET_ACCESS_KEY\"] = readline()\n",
    "print(\"Enter AWS_DEFAULT_REGION: \\n\"); sleep(1)\n",
    "ENV[\"AWS_DEFAULT_REGION\"] = readline()\n",
    "\n",
    "print(\"AWS is now configured.\")"
   ]
  },
  {
   "cell_type": "code",
   "execution_count": null,
   "metadata": {},
   "outputs": [],
   "source": [
    "# Run this cell to configure Banyan. When prompted, provide your user ID and API\n",
    "# key. You can find these on the Account page of your Banyan dashboard.\n",
    "# If you have already configured Banyan, you can skip this step.\n",
    "\n",
    "print(\"Please enter your User ID: \\n\"); sleep(1)\n",
    "user_id = readline()\n",
    "print(\"Please enter your API Key: \\n\"); sleep(1)\n",
    "api_key = readline()\n",
    "\n",
    "# Configures Banyan client library with your Banyan credentials\n",
    "configure(user_id=user_id, api_key=api_key)\n",
    "print(\"Banyan is now configured.\")"
   ]
  },
  {
   "cell_type": "markdown",
   "metadata": {},
   "source": [
    "## Creating a cluster\n",
    "\n",
    "For this example, you will need a Banyan cluster. You can either use an existing\n",
    "cluster or create a new cluster. Run the following code block and enter in either\n",
    "the name of an existing cluster or the name you would like to use for a new cluster.\n",
    "\n",
    "If you already have a cluster, you should specify its name, when prompted.\n",
    "\n",
    "If you would like to instead create a new cluster, provide a name and the name\n",
    "of the [Amazon EC2 key pair](https://docs.aws.amazon.com/AWSEC2/latest/UserGuide/ec2-key-pairs.html#having-ec2-create-your-key-pair) that you created during [Banyan setup](https://www.banyancomputing.com/creating-clusters).\n",
    "\n",
    "In the cell below, you can change `instance_type` to create a cluster with a\n",
    "different EC2 instance type that may have a larger amount of memory or workers.\n",
    "See the documentation [here](https://www.banyancomputing.com/banyan-jl-docs/create-cluster/) for the other parameters for creating a cluster."
   ]
  },
  {
   "cell_type": "code",
   "execution_count": 51,
   "metadata": {},
   "outputs": [
    {
     "name": "stdout",
     "output_type": "stream",
     "text": [
      "Cluster name for existing cluster or new cluster: \n",
      "image-processing\n",
      "You have 32 clusters\n",
      "Creating new cluster image-processing\n",
      "Name of SSH EC2 Key Pair: \n",
      "CailinSSHKeyPair\n"
     ]
    },
    {
     "name": "stderr",
     "output_type": "stream",
     "text": [
      "┌ Info: Started creating cluster named image-processing\n",
      "└ @ Banyan c:\\Users\\caili\\Projects\\Banyan\\banyan-julia\\Banyan\\src\\clusters.jl:84\n",
      "\u001b[32m✓ Setting up cluster image-processing \t Time: 0:26:21\u001b[39m\n"
     ]
    },
    {
     "data": {
      "text/plain": [
       "Cluster(\"image-processing\", :running, \"\", 0, \"arn:aws:s3:::banyan-cluster-data-image-processing-53ac0d37\")"
      ]
     },
     "execution_count": 51,
     "metadata": {},
     "output_type": "execute_result"
    }
   ],
   "source": [
    "print(\"Cluster name for existing cluster or new cluster: \\n\"); sleep(1)\n",
    "cluster_name = readline()\n",
    "println(cluster_name)\n",
    "\n",
    "clusters = get_clusters()\n",
    "println(\"You have $(length(clusters)) clusters\")\n",
    "if !(haskey(clusters, cluster_name) && clusters[cluster_name].status == :running)\n",
    "    println(\"Creating new cluster $(cluster_name)\")\n",
    "    print(\"Name of SSH EC2 Key Pair: \\n\"); sleep(1)\n",
    "    ec2_key_pair_name = readline()\n",
    "    println(ec2_key_pair_name)\n",
    "    create_cluster(\n",
    "        name=cluster_name,\n",
    "        instance_type=\"t3.2xlarge\",\n",
    "        initial_num_workers=2,\n",
    "        ec2_key_pair_name=ec2_key_pair_name\n",
    "    )\n",
    "else\n",
    "    println(\"Using existing cluster $(cluster_name)\")\n",
    "end\n",
    "get_cluster(cluster_name)"
   ]
  },
  {
   "cell_type": "markdown",
   "metadata": {},
   "source": [
    "## Start a session\n",
    "\n",
    "In order to perform any computation, we need to allocate resources on the cluster\n",
    "to perform the computation. To do this, start a session with a specified number\n",
    "of workers. The number of workers is correlated to the amount of parallelism\n",
    "and speedup you can get. The more workers, the more parallelized your computation\n",
    "can be and potentially the faster it can run. For this example, 2 workers should\n",
    "be sufficient."
   ]
  },
  {
   "cell_type": "code",
   "execution_count": null,
   "metadata": {},
   "outputs": [],
   "source": [
    "# Start a session\n",
    "session_id = start_session(\n",
    "    cluster_name = cluster_name,\n",
    "    nworkers = 10,\n",
    "    code_files = [\"parameters.jl\"],\n",
    "    force_update_files = true,\n",
    "    print_logs = false,  # Toggle this if you want to view job output printed here in the notebook\n",
    "    store_logs_in_s3 = true,  # Toggle this if you do not want job logs to be saved\n",
    ")"
   ]
  },
  {
   "cell_type": "markdown",
   "metadata": {},
   "source": [
    "## Construct an array of structs\n",
    "\n",
    "**TODO: add more details here.**"
   ]
  },
  {
   "cell_type": "code",
   "execution_count": null,
   "metadata": {},
   "outputs": [],
   "source": [
    "configurations = [\n",
    "    Configuration(\n",
    "        rand(5:150),\n",
    "        rand(5:150)\n",
    "    )\n",
    "    for i=1:100\n",
    "]"
   ]
  },
  {
   "cell_type": "code",
   "execution_count": null,
   "metadata": {},
   "outputs": [],
   "source": []
  },
  {
   "cell_type": "markdown",
   "metadata": {},
   "source": [
    "## Cleanup resources\n",
    "\n",
    "After running your desired computation, we suggest that you end your running\n",
    "session, so that you are not charged for resources when you are not using them. You\n",
    "may choose to keep your cluster running.\n",
    "\n",
    "Run the following code block to end the session that you created in this example."
   ]
  },
  {
   "cell_type": "code",
   "execution_count": null,
   "metadata": {},
   "outputs": [],
   "source": [
    "# End session\n",
    "end_session(session_id)"
   ]
  }
 ],
 "metadata": {
  "kernelspec": {
   "display_name": "Julia 1.6.1",
   "language": "julia",
   "name": "julia-1.6"
  },
  "language_info": {
   "file_extension": ".jl",
   "mimetype": "application/julia",
   "name": "julia",
   "version": "1.6.1"
  },
  "orig_nbformat": 4
 },
 "nbformat": 4,
 "nbformat_minor": 2
}
