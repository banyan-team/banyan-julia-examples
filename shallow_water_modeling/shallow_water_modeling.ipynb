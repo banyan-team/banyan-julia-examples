{
 "cells": [
  {
   "cell_type": "markdown",
   "metadata": {},
   "source": [
    "# Shallow Water Modeling\n",
    "\n",
    "In this notebook, we're going to run an MPI implementation of the shallow water model on a Banyan computing session with a number of workers running in parallel. Banyan automatically sets up cloud computing resources in your own Virtual Private Cloud, sets up MPI and Julia, manages your software environment, lets you run with any number of workers, and scales down when you're finished. All your estimated costs, running clusters, sessions, and logs can be viewed on the [Banyan dashboard](https://www.banyancomputing.com/dashboard).\n",
    "\n",
    "To run this notebook, you will need to have set up an account with Banyan. Check\n",
    "out the documentation [here](https://www.banyancomputing.com/getting-started/)\n",
    "for step by step instructions."
   ]
  },
  {
   "cell_type": "markdown",
   "metadata": {},
   "source": [
    "## Configuring\n",
    "\n",
    "To run this example, please ensure that you have set up your Banyan account.\n",
    "\n",
    "Run the first cell below to import `Banyan.jl`.\n",
    "To configure your AWS credentials, run the second cell below and provide your\n",
    "AWS credentials when prompted. Banyan does not save your AWS credentials, but\n",
    "they are needed so that you can run your computation in your AWS account.\n",
    "Finally, run the third cell below to set your Banyan credentials and configure\n",
    "Banyan.\n",
    "\n",
    "You must pass your User ID and API Key to the `configure` function in order\n",
    "to authenticate. You can find this information on the Account page of the\n",
    "Banyan Dashboard. After running this cell, your credentials will be saved\n",
    "in `$HOME/.banyan/banyanconfig.toml` and will be read from that file in the\n",
    "future. This means that you only need to run this cell once."
   ]
  },
  {
   "cell_type": "code",
   "execution_count": null,
   "metadata": {},
   "outputs": [],
   "source": [
    "# Import packages\n",
    "\n",
    "using Banyan"
   ]
  },
  {
   "cell_type": "code",
   "execution_count": null,
   "metadata": {},
   "outputs": [],
   "source": [
    "# Run this cell to configure the AWS CLI. When prompted, specify your AWS\n",
    "# credentials for the AWS account that you connected with Banyan. If you have\n",
    "# already configured the AWS CLI with the credentials for the account you have\n",
    "# configured with your Banyan account, you can skip this step.\n",
    "\n",
    "print(\"Enter AWS_ACCESS_KEY_ID: \\n\"); sleep(1)\n",
    "ENV[\"AWS_ACCESS_KEY_ID\"] = readline()\n",
    "print(\"Enter AWS_SECRET_ACCESS_KEY: \\n\"); sleep(1)\n",
    "ENV[\"AWS_SECRET_ACCESS_KEY\"] = readline()\n",
    "print(\"Enter AWS_DEFAULT_REGION: \\n\"); sleep(1)\n",
    "ENV[\"AWS_DEFAULT_REGION\"] = readline()\n",
    "\n",
    "print(\"AWS is now configured.\")"
   ]
  },
  {
   "cell_type": "code",
   "execution_count": null,
   "metadata": {},
   "outputs": [],
   "source": [
    "# Run this cell to configure Banyan. When prompted, provide your user ID and API\n",
    "# key. You can find these on the Account page of your Banyan dashboard.\n",
    "# If you have already configured Banyan, you can skip this step.\n",
    "\n",
    "print(\"Please enter your User ID: \\n\"); sleep(1)\n",
    "user_id = readline()\n",
    "print(\"Please enter your API Key: \\n\"); sleep(1)\n",
    "api_key = readline()\n",
    "\n",
    "# Configures Banyan client library with your Banyan credentials\n",
    "configure(user_id=user_id, api_key=api_key)\n",
    "print(\"Banyan is now configured.\")"
   ]
  },
  {
   "cell_type": "markdown",
   "metadata": {},
   "source": [
    "## Creating a cluster\n",
    "\n",
    "For this example, you will need a Banyan cluster. You can either use an existing\n",
    "cluster or create a new cluster. Run the following code block and enter in either\n",
    "the name of an existing cluster or the name you would like to use for a new cluster.\n",
    "\n",
    "If you already have a cluster, you should specify its name, when prompted.\n",
    "\n",
    "If you would like to instead create a new cluster, provide a name and the name\n",
    "of the [Amazon EC2 key pair](https://docs.aws.amazon.com/AWSEC2/latest/UserGuide/ec2-key-pairs.html#having-ec2-create-your-key-pair) that you created during [Banyan setup](https://www.banyancomputing.com/creating-clusters).\n",
    "\n",
    "In the cell below, you can change `instance_type` to create a cluster with a\n",
    "different EC2 instance type that may have a larger amount of memory or workers.\n",
    "See the documentation [here](https://www.banyancomputing.com/banyan-jl-docs/create-cluster/) for the other parameters for creating a cluster."
   ]
  },
  {
   "cell_type": "code",
   "execution_count": null,
   "metadata": {},
   "outputs": [],
   "source": [
    "print(\"Cluster name for existing cluster or new cluster: \\n\"); sleep(1)\n",
    "cluster_name = readline()\n",
    "println(cluster_name)\n",
    "\n",
    "clusters = get_clusters()\n",
    "println(\"You have $(length(clusters)) clusters\")\n",
    "if !(haskey(clusters, cluster_name) && clusters[cluster_name].status == :running)\n",
    "    println(\"Creating new cluster $(cluster_name)\")\n",
    "    print(\"Name of SSH EC2 Key Pair: \\n\"); sleep(1)\n",
    "    ec2_key_pair_name = readline()\n",
    "    println(ec2_key_pair_name)\n",
    "    create_cluster(\n",
    "        name=cluster_name,\n",
    "        instance_type=\"t3.2xlarge\",\n",
    "        initial_num_workers=2,\n",
    "        ec2_key_pair_name=ec2_key_pair_name\n",
    "    )\n",
    "else\n",
    "    println(\"Using existing cluster $(cluster_name)\")\n",
    "end\n",
    "get_cluster(cluster_name)"
   ]
  },
  {
   "cell_type": "markdown",
   "metadata": {},
   "source": [
    "## Running the Simulation\n",
    "\n",
    "We have a script in `model.jl` which uses MPI (the widely-adopted and battle-tested MPI binding for Julia). This script runs a fluid simulation using the shallow water model. To run this script on a session of multiple workers running in parallel, we call `run_session` and pass in the names of one or more `.jl` files into the `code_files` to run."
   ]
  },
  {
   "cell_type": "code",
   "execution_count": null,
   "metadata": {},
   "outputs": [],
   "source": [
    "run_session(\n",
    "    cluster_name = cluster_name, \n",
    "    session_name = \"shallow water modeling\", \n",
    "    nworkers = 4, \n",
    "    code_files=[\"file://model.jl\"])"
   ]
  }
 ],
 "metadata": {
  "kernelspec": {
   "display_name": "Julia 1.6.1",
   "language": "julia",
   "name": "julia-1.6"
  },
  "language_info": {
   "file_extension": ".jl",
   "mimetype": "application/julia",
   "name": "julia",
   "version": "1.6.1"
  }
 },
 "nbformat": 4,
 "nbformat_minor": 2
}
