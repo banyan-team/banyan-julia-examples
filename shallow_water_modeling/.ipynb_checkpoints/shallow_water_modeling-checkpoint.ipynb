{
 "cells": [
  {
   "cell_type": "markdown",
   "metadata": {},
   "source": [
    "# Shallow Water Modeling\n",
    "\n",
    "In this notebook, we're going to model shallow water. This will help model the pressure on the surface of a fluid.\n",
    "\n",
    "To run this notebook, you will need to have set up an account with Banyan. Check\n",
    "out the documentation [here](https://www.banyancomputing.com/getting-started/)\n",
    "for step by step instructions."
   ]
  },
  {
   "cell_type": "markdown",
   "metadata": {},
   "source": [
    "## Configuring\n",
    "\n",
    "We will use Banyan to perform some data analysis on the Iris Dataset. To run this\n",
    "example, please ensure that you have set up your Banyan account.\n",
    "\n",
    "Run the first cell below to import `Banyan` and `BanyanDataFrames`.\n",
    "To configure your AWS credentials, run the second cell below and provide your\n",
    "AWS credentials when prompted. Banyan does not save your AWS credentials, but\n",
    "they are needed so that you can run your computation in your AWS account.\n",
    "Finally, run the third cell below to set your Banyan credentials and configure\n",
    "Banyan.\n",
    "\n",
    "You must pass your User ID and API Key to the `configure` function in order\n",
    "to authenticate. You can find this information on the Account page of the\n",
    "Banyan Dashboard. After running this cell, your credentials will be saved\n",
    "in `$HOME/.banyan/banyanconfig.toml` and will be read from that file in the\n",
    "future. This means that you only need to run this cell once."
   ]
  },
  {
   "cell_type": "code",
   "execution_count": 2,
   "metadata": {},
   "outputs": [],
   "source": [
    "# Import packages\n",
    "\n",
    "using Banyan"
   ]
  },
  {
   "cell_type": "code",
   "execution_count": 3,
   "metadata": {},
   "outputs": [
    {
     "name": "stdout",
     "output_type": "stream",
     "text": [
      "Enter AWS_ACCESS_KEY_ID: \n"
     ]
    },
    {
     "ename": "LoadError",
     "evalue": "InterruptException:",
     "output_type": "error",
     "traceback": [
      "InterruptException:",
      "",
      "Stacktrace:",
      "  [1] try_yieldto(undo::typeof(Base.ensure_rescheduled))",
      "    @ Base .\\task.jl:710",
      "  [2] wait",
      "    @ .\\task.jl:769 [inlined]",
      "  [3] wait(c::Base.GenericCondition{Base.Threads.SpinLock})",
      "    @ Base .\\condition.jl:106",
      "  [4] wait(fdw::FileWatching._FDWatcher; readable::Bool, writable::Bool)",
      "    @ FileWatching C:\\buildbot\\worker\\package_win64\\build\\usr\\share\\julia\\stdlib\\v1.6\\FileWatching\\src\\FileWatching.jl:533",
      "  [5] wait",
      "    @ C:\\Users\\Claris\\.julia\\packages\\ZMQ\\R3wSD\\src\\socket.jl:52 [inlined]",
      "  [6] _recv!(socket::ZMQ.Socket, zmsg::Base.RefValue{ZMQ._Message})",
      "    @ ZMQ C:\\Users\\Claris\\.julia\\packages\\ZMQ\\R3wSD\\src\\comm.jl:75",
      "  [7] recv(socket::ZMQ.Socket, #unused#::Type{String})",
      "    @ ZMQ C:\\Users\\Claris\\.julia\\packages\\ZMQ\\R3wSD\\src\\comm.jl:106",
      "  [8] recv_ipython(socket::ZMQ.Socket)",
      "    @ IJulia C:\\Users\\Claris\\.julia\\packages\\IJulia\\e8kqU\\src\\msg.jl:69",
      "  [9] readprompt(prompt::String; password::Bool)",
      "    @ IJulia C:\\Users\\Claris\\.julia\\packages\\IJulia\\e8kqU\\src\\stdio.jl:202",
      " [10] readprompt",
      "    @ C:\\Users\\Claris\\.julia\\packages\\IJulia\\e8kqU\\src\\stdio.jl:195 [inlined]",
      " [11] readline(io::IJulia.IJuliaStdio{Base.PipeEndpoint})",
      "    @ IJulia C:\\Users\\Claris\\.julia\\packages\\IJulia\\e8kqU\\src\\stdio.jl:237",
      " [12] readline()",
      "    @ Base .\\io.jl:507",
      " [13] top-level scope",
      "    @ In[3]:7",
      " [14] eval",
      "    @ .\\boot.jl:360 [inlined]",
      " [15] include_string(mapexpr::typeof(REPL.softscope), mod::Module, code::String, filename::String)",
      "    @ Base .\\loading.jl:1094"
     ]
    }
   ],
   "source": [
    "# Run this cell to configure the AWS CLI. When prompted, specify your AWS\n",
    "# credentials for the AWS account that you connected with Banyan. If you have\n",
    "# already configured the AWS CLI with the credentials for the account you have\n",
    "# configured with your Banyan account, you can skip this step.\n",
    "\n",
    "print(\"Enter AWS_ACCESS_KEY_ID: \\n\"); sleep(1)\n",
    "ENV[\"AWS_ACCESS_KEY_ID\"] = readline()\n",
    "print(\"Enter AWS_SECRET_ACCESS_KEY: \\n\"); sleep(1)\n",
    "ENV[\"AWS_SECRET_ACCESS_KEY\"] = readline()\n",
    "print(\"Enter AWS_DEFAULT_REGION: \\n\"); sleep(1)\n",
    "ENV[\"AWS_DEFAULT_REGION\"] = readline()\n",
    "\n",
    "print(\"AWS is now configured.\")"
   ]
  },
  {
   "cell_type": "code",
   "execution_count": 4,
   "metadata": {},
   "outputs": [
    {
     "name": "stdout",
     "output_type": "stream",
     "text": [
      "Please enter your User ID: \n"
     ]
    },
    {
     "ename": "LoadError",
     "evalue": "InterruptException:",
     "output_type": "error",
     "traceback": [
      "InterruptException:",
      "",
      "Stacktrace:",
      "  [1] try_yieldto(undo::typeof(Base.ensure_rescheduled))",
      "    @ Base .\\task.jl:710",
      "  [2] wait",
      "    @ .\\task.jl:769 [inlined]",
      "  [3] wait(c::Base.GenericCondition{Base.Threads.SpinLock})",
      "    @ Base .\\condition.jl:106",
      "  [4] wait(fdw::FileWatching._FDWatcher; readable::Bool, writable::Bool)",
      "    @ FileWatching C:\\buildbot\\worker\\package_win64\\build\\usr\\share\\julia\\stdlib\\v1.6\\FileWatching\\src\\FileWatching.jl:533",
      "  [5] wait",
      "    @ C:\\Users\\Claris\\.julia\\packages\\ZMQ\\R3wSD\\src\\socket.jl:52 [inlined]",
      "  [6] _recv!(socket::ZMQ.Socket, zmsg::Base.RefValue{ZMQ._Message})",
      "    @ ZMQ C:\\Users\\Claris\\.julia\\packages\\ZMQ\\R3wSD\\src\\comm.jl:75",
      "  [7] recv(socket::ZMQ.Socket, #unused#::Type{String})",
      "    @ ZMQ C:\\Users\\Claris\\.julia\\packages\\ZMQ\\R3wSD\\src\\comm.jl:106",
      "  [8] recv_ipython(socket::ZMQ.Socket)",
      "    @ IJulia C:\\Users\\Claris\\.julia\\packages\\IJulia\\e8kqU\\src\\msg.jl:69",
      "  [9] readprompt(prompt::String; password::Bool)",
      "    @ IJulia C:\\Users\\Claris\\.julia\\packages\\IJulia\\e8kqU\\src\\stdio.jl:202",
      " [10] readprompt",
      "    @ C:\\Users\\Claris\\.julia\\packages\\IJulia\\e8kqU\\src\\stdio.jl:195 [inlined]",
      " [11] readline(io::IJulia.IJuliaStdio{Base.PipeEndpoint})",
      "    @ IJulia C:\\Users\\Claris\\.julia\\packages\\IJulia\\e8kqU\\src\\stdio.jl:237",
      " [12] readline()",
      "    @ Base .\\io.jl:507",
      " [13] top-level scope",
      "    @ In[4]:6",
      " [14] eval",
      "    @ .\\boot.jl:360 [inlined]",
      " [15] include_string(mapexpr::typeof(REPL.softscope), mod::Module, code::String, filename::String)",
      "    @ Base .\\loading.jl:1094"
     ]
    }
   ],
   "source": [
    "# Run this cell to configure Banyan. When prompted, provide your user ID and API\n",
    "# key. You can find these on the Account page of your Banyan dashboard.\n",
    "# If you have already configured Banyan, you can skip this step.\n",
    "\n",
    "print(\"Please enter your User ID: \\n\"); sleep(1)\n",
    "user_id = readline()\n",
    "print(\"Please enter your API Key: \\n\"); sleep(1)\n",
    "api_key = readline()\n",
    "\n",
    "# Configures Banyan client library with your Banyan credentials\n",
    "configure(user_id=user_id, api_key=api_key)\n",
    "print(\"Banyan is now configured.\")"
   ]
  },
  {
   "cell_type": "markdown",
   "metadata": {},
   "source": [
    "## Creating a cluster\n",
    "\n",
    "For this example, you will need a Banyan cluster. You can either use an existing\n",
    "cluster or create a new cluster. Run the following code block and enter in either\n",
    "the name of an existing cluster or the name you would like to use for a new cluster.\n",
    "\n",
    "If you already have a cluster, you should specify its name, when prompted.\n",
    "\n",
    "If you would like to instead create a new cluster, provide a name and the name\n",
    "of the [Amazon EC2 key pair](https://docs.aws.amazon.com/AWSEC2/latest/UserGuide/ec2-key-pairs.html#having-ec2-create-your-key-pair) that you created during [Banyan setup](https://www.banyancomputing.com/creating-clusters).\n",
    "\n",
    "In the cell below, you can change `instance_type` to create a cluster with a\n",
    "different EC2 instance type that may have a larger amount of memory or workers.\n",
    "See the documentation [here](https://www.banyancomputing.com/banyan-jl-docs/create-cluster/) for the other parameters for creating a cluster."
   ]
  },
  {
   "cell_type": "code",
   "execution_count": null,
   "metadata": {},
   "outputs": [],
   "source": [
    "print(\"Cluster name for existing cluster or new cluster: \\n\"); sleep(1)\n",
    "cluster_name = readline()\n",
    "println(cluster_name)\n",
    "\n",
    "clusters = get_clusters()\n",
    "println(\"You have $(length(clusters)) clusters\")\n",
    "if !(haskey(clusters, cluster_name) && clusters[cluster_name].status == :running)\n",
    "    println(\"Creating new cluster $(cluster_name)\")\n",
    "    print(\"Name of SSH EC2 Key Pair: \\n\"); sleep(1)\n",
    "    ec2_key_pair_name = readline()\n",
    "    println(ec2_key_pair_name)\n",
    "    create_cluster(\n",
    "        name=cluster_name,\n",
    "        instance_type=\"t3.2xlarge\",\n",
    "        initial_num_workers=2,\n",
    "        ec2_key_pair_name=ec2_key_pair_name\n",
    "    )\n",
    "else\n",
    "    println(\"Using existing cluster $(cluster_name)\")\n",
    "end\n",
    "get_cluster(cluster_name)"
   ]
  },
  {
   "cell_type": "markdown",
   "metadata": {},
   "source": [
    "## Running the Simulation\n",
    "\n",
    "We have an MPI script in model.jl. To run this, we call run_session. "
   ]
  },
  {
   "cell_type": "code",
   "execution_count": null,
   "metadata": {},
   "outputs": [],
   "source": [
    "run_session(cluster_name = cluster_name, session_name = \"shallow water modeling\", nworkers = 8, code_file=[\"model.jl\"])"
   ]
  }
 ],
 "metadata": {
  "kernelspec": {
   "display_name": "Julia 1.6.1",
   "language": "julia",
   "name": "julia-1.6"
  },
  "language_info": {
   "file_extension": ".jl",
   "mimetype": "application/julia",
   "name": "julia",
   "version": "1.6.1"
  }
 },
 "nbformat": 4,
 "nbformat_minor": 2
}
