{
 "cells": [
  {
   "cell_type": "markdown",
   "metadata": {},
   "source": [
    "# Shallow Water Modeling\n",
    "\n",
    "In this notebook, we're going to model shallow water. This will help model the pressure on the surface of a fluid.\n",
    "\n",
    "To run this notebook, you will need to have set up an account with Banyan. Check\n",
    "out the documentation [here](https://www.banyancomputing.com/getting-started/)\n",
    "for step by step instructions."
   ]
  },
  {
   "cell_type": "markdown",
   "metadata": {},
   "source": [
    "## Configuring\n",
    "\n",
    "We will use Banyan to perform some data analysis on the Iris Dataset. To run this\n",
    "example, please ensure that you have set up your Banyan account.\n",
    "\n",
    "Run the first cell below to import `Banyan` and `BanyanDataFrames`.\n",
    "To configure your AWS credentials, run the second cell below and provide your\n",
    "AWS credentials when prompted. Banyan does not save your AWS credentials, but\n",
    "they are needed so that you can run your computation in your AWS account.\n",
    "Finally, run the third cell below to set your Banyan credentials and configure\n",
    "Banyan.\n",
    "\n",
    "You must pass your User ID and API Key to the `configure` function in order\n",
    "to authenticate. You can find this information on the Account page of the\n",
    "Banyan Dashboard. After running this cell, your credentials will be saved\n",
    "in `$HOME/.banyan/banyanconfig.toml` and will be read from that file in the\n",
    "future. This means that you only need to run this cell once."
   ]
  },
  {
   "cell_type": "code",
   "execution_count": 1,
   "metadata": {},
   "outputs": [
    {
     "name": "stderr",
     "output_type": "stream",
     "text": [
      "┌ Info: Precompiling Banyan [706d138b-e922-45b9-a636-baf8ae0d5317]\n",
      "└ @ Base loading.jl:1317\n"
     ]
    }
   ],
   "source": [
    "# Import packages\n",
    "\n",
    "using Banyan"
   ]
  },
  {
   "cell_type": "code",
   "execution_count": 2,
   "metadata": {},
   "outputs": [
    {
     "name": "stdout",
     "output_type": "stream",
     "text": [
      "Enter AWS_ACCESS_KEY_ID: \n"
     ]
    },
    {
     "ename": "LoadError",
     "evalue": "InterruptException:",
     "output_type": "error",
     "traceback": [
      "InterruptException:",
      "",
      "Stacktrace:",
      " [1] try_yieldto(undo::typeof(Base.ensure_rescheduled))",
      "   @ Base .\\task.jl:710",
      " [2] wait",
      "   @ .\\task.jl:769 [inlined]",
      " [3] wait(c::Base.GenericCondition{Base.Threads.SpinLock})",
      "   @ Base .\\condition.jl:106",
      " [4] _trywait(t::Timer)",
      "   @ Base .\\asyncevent.jl:111",
      " [5] wait",
      "   @ .\\asyncevent.jl:129 [inlined]",
      " [6] sleep(sec::Int64)",
      "   @ Base .\\asyncevent.jl:214",
      " [7] top-level scope",
      "   @ In[2]:6",
      " [8] eval",
      "   @ .\\boot.jl:360 [inlined]",
      " [9] include_string(mapexpr::typeof(REPL.softscope), mod::Module, code::String, filename::String)",
      "   @ Base .\\loading.jl:1094"
     ]
    }
   ],
   "source": [
    "# Run this cell to configure the AWS CLI. When prompted, specify your AWS\n",
    "# credentials for the AWS account that you connected with Banyan. If you have\n",
    "# already configured the AWS CLI with the credentials for the account you have\n",
    "# configured with your Banyan account, you can skip this step.\n",
    "\n",
    "print(\"Enter AWS_ACCESS_KEY_ID: \\n\"); sleep(1)\n",
    "ENV[\"AWS_ACCESS_KEY_ID\"] = readline()\n",
    "print(\"Enter AWS_SECRET_ACCESS_KEY: \\n\"); sleep(1)\n",
    "ENV[\"AWS_SECRET_ACCESS_KEY\"] = readline()\n",
    "print(\"Enter AWS_DEFAULT_REGION: \\n\"); sleep(1)\n",
    "ENV[\"AWS_DEFAULT_REGION\"] = readline()\n",
    "\n",
    "print(\"AWS is now configured.\")"
   ]
  },
  {
   "cell_type": "code",
   "execution_count": 4,
   "metadata": {},
   "outputs": [
    {
     "name": "stdout",
     "output_type": "stream",
     "text": [
      "Please enter your User ID: \n"
     ]
    },
    {
     "ename": "LoadError",
     "evalue": "InterruptException:",
     "output_type": "error",
     "traceback": [
      "InterruptException:",
      "",
      "Stacktrace:",
      "  [1] try_yieldto(undo::typeof(Base.ensure_rescheduled))",
      "    @ Base .\\task.jl:710",
      "  [2] wait",
      "    @ .\\task.jl:769 [inlined]",
      "  [3] wait(c::Base.GenericCondition{Base.Threads.SpinLock})",
      "    @ Base .\\condition.jl:106",
      "  [4] wait(fdw::FileWatching._FDWatcher; readable::Bool, writable::Bool)",
      "    @ FileWatching C:\\buildbot\\worker\\package_win64\\build\\usr\\share\\julia\\stdlib\\v1.6\\FileWatching\\src\\FileWatching.jl:533",
      "  [5] wait",
      "    @ C:\\Users\\Claris\\.julia\\packages\\ZMQ\\R3wSD\\src\\socket.jl:52 [inlined]",
      "  [6] _recv!(socket::ZMQ.Socket, zmsg::Base.RefValue{ZMQ._Message})",
      "    @ ZMQ C:\\Users\\Claris\\.julia\\packages\\ZMQ\\R3wSD\\src\\comm.jl:75",
      "  [7] recv(socket::ZMQ.Socket, #unused#::Type{String})",
      "    @ ZMQ C:\\Users\\Claris\\.julia\\packages\\ZMQ\\R3wSD\\src\\comm.jl:106",
      "  [8] recv_ipython(socket::ZMQ.Socket)",
      "    @ IJulia C:\\Users\\Claris\\.julia\\packages\\IJulia\\e8kqU\\src\\msg.jl:69",
      "  [9] readprompt(prompt::String; password::Bool)",
      "    @ IJulia C:\\Users\\Claris\\.julia\\packages\\IJulia\\e8kqU\\src\\stdio.jl:202",
      " [10] readprompt",
      "    @ C:\\Users\\Claris\\.julia\\packages\\IJulia\\e8kqU\\src\\stdio.jl:195 [inlined]",
      " [11] readline(io::IJulia.IJuliaStdio{Base.PipeEndpoint})",
      "    @ IJulia C:\\Users\\Claris\\.julia\\packages\\IJulia\\e8kqU\\src\\stdio.jl:237",
      " [12] readline()",
      "    @ Base .\\io.jl:507",
      " [13] top-level scope",
      "    @ In[4]:6",
      " [14] eval",
      "    @ .\\boot.jl:360 [inlined]",
      " [15] include_string(mapexpr::typeof(REPL.softscope), mod::Module, code::String, filename::String)",
      "    @ Base .\\loading.jl:1094"
     ]
    }
   ],
   "source": [
    "# Run this cell to configure Banyan. When prompted, provide your user ID and API\n",
    "# key. You can find these on the Account page of your Banyan dashboard.\n",
    "# If you have already configured Banyan, you can skip this step.\n",
    "\n",
    "print(\"Please enter your User ID: \\n\"); sleep(1)\n",
    "user_id = readline()\n",
    "print(\"Please enter your API Key: \\n\"); sleep(1)\n",
    "api_key = readline()\n",
    "\n",
    "# Configures Banyan client library with your Banyan credentials\n",
    "configure(user_id=user_id, api_key=api_key)\n",
    "print(\"Banyan is now configured.\")"
   ]
  },
  {
   "cell_type": "markdown",
   "metadata": {},
   "source": [
    "## Creating a cluster\n",
    "\n",
    "For this example, you will need a Banyan cluster. You can either use an existing\n",
    "cluster or create a new cluster. Run the following code block and enter in either\n",
    "the name of an existing cluster or the name you would like to use for a new cluster.\n",
    "\n",
    "If you already have a cluster, you should specify its name, when prompted.\n",
    "\n",
    "If you would like to instead create a new cluster, provide a name and the name\n",
    "of the [Amazon EC2 key pair](https://docs.aws.amazon.com/AWSEC2/latest/UserGuide/ec2-key-pairs.html#having-ec2-create-your-key-pair) that you created during [Banyan setup](https://www.banyancomputing.com/creating-clusters).\n",
    "\n",
    "In the cell below, you can change `instance_type` to create a cluster with a\n",
    "different EC2 instance type that may have a larger amount of memory or workers.\n",
    "See the documentation [here](https://www.banyancomputing.com/banyan-jl-docs/create-cluster/) for the other parameters for creating a cluster."
   ]
  },
  {
   "cell_type": "code",
   "execution_count": 3,
   "metadata": {},
   "outputs": [
    {
     "name": "stdout",
     "output_type": "stream",
     "text": [
      "Cluster name for existing cluster or new cluster: \n",
      "stdin> iris-df-analysis\n",
      "iris-df-analysis\n",
      "You have 37 clusters\n",
      "Using existing cluster iris-df-analysis\n"
     ]
    },
    {
     "data": {
      "text/plain": [
       "Cluster(\"iris-df-analysis\", :running, \"\", \"arn:aws:s3:::banyan-cluster-data-iris-df-analysis-98dc37b9\")"
      ]
     },
     "execution_count": 3,
     "metadata": {},
     "output_type": "execute_result"
    }
   ],
   "source": [
    "print(\"Cluster name for existing cluster or new cluster: \\n\"); sleep(1)\n",
    "cluster_name = readline()\n",
    "println(cluster_name)\n",
    "\n",
    "clusters = get_clusters()\n",
    "println(\"You have $(length(clusters)) clusters\")\n",
    "if !(haskey(clusters, cluster_name) && clusters[cluster_name].status == :running)\n",
    "    println(\"Creating new cluster $(cluster_name)\")\n",
    "    print(\"Name of SSH EC2 Key Pair: \\n\"); sleep(1)\n",
    "    ec2_key_pair_name = readline()\n",
    "    println(ec2_key_pair_name)\n",
    "    create_cluster(\n",
    "        name=cluster_name,\n",
    "        instance_type=\"t3.2xlarge\",\n",
    "        initial_num_workers=2,\n",
    "        ec2_key_pair_name=ec2_key_pair_name\n",
    "    )\n",
    "else\n",
    "    println(\"Using existing cluster $(cluster_name)\")\n",
    "end\n",
    "get_cluster(cluster_name)"
   ]
  },
  {
   "cell_type": "markdown",
   "metadata": {},
   "source": [
    "## Running the Simulation\n",
    "\n",
    "We have an MPI script in model.jl. To run this, we call run_session. "
   ]
  },
  {
   "cell_type": "code",
   "execution_count": 6,
   "metadata": {},
   "outputs": [
    {
     "name": "stderr",
     "output_type": "stream",
     "text": [
      "┌ Info: Starting session with ID 2022-02-03-222836f31577f5cdf034fad3a8ee879207a5ef on cluster named \"iris-df-analysis\"\n",
      "└ @ Banyan C:\\Users\\Claris\\Banyan Code\\banyan-julia\\Banyan\\src\\sessions.jl:186\n",
      "\u001b[32m✓ Preparing session with ID 2022-02-03-222836f31577f5cdf034fad3a8ee879207a5ef \t Time: 0:02:56\u001b[39m\n",
      "┌ Info: Ending session with ID 2022-02-03-222836f31577f5cdf034fad3a8ee879207a5ef\n",
      "└ @ Banyan C:\\Users\\Claris\\Banyan Code\\banyan-julia\\Banyan\\src\\sessions.jl:206\n"
     ]
    },
    {
     "data": {
      "text/plain": [
       "\"2022-02-03-222836f31577f5cdf034fad3a8ee879207a5ef\""
      ]
     },
     "execution_count": 6,
     "metadata": {},
     "output_type": "execute_result"
    }
   ],
   "source": [
    "run_session(\n",
    "    cluster_name = cluster_name, \n",
    "    session_name = \"shallow water modeling\", \n",
    "    url = \"https://github.com/banyan-team/banyan-julia.git\",\n",
    "    branch_name = \"claris/custom-scripting\",\n",
    "    directory = \"banyan-julia/Banyan/test\",\n",
    "    dev_paths = [\n",
    "       \"banyan-julia/Banyan\"\n",
    "#        \"banyan-julia/BanyanArrays\",\n",
    "#        \"banyan-julia/BanyanDataFrames\"\n",
    "    ],\n",
    "#     force_clone = true,\n",
    "    nworkers = 4, \n",
    "    code_files=[\"file://model.jl\"])"
   ]
  },
  {
   "cell_type": "code",
   "execution_count": 5,
   "metadata": {},
   "outputs": [
    {
     "name": "stderr",
     "output_type": "stream",
     "text": [
      "┌ Info: Ending session with ID 2022-02-03-2207454ac073674a29e406802715c09bf736eb\n",
      "└ @ Banyan C:\\Users\\Claris\\Banyan Code\\banyan-julia\\Banyan\\src\\sessions.jl:206\n"
     ]
    },
    {
     "data": {
      "text/plain": [
       "\"2022-02-03-2207454ac073674a29e406802715c09bf736eb\""
      ]
     },
     "execution_count": 5,
     "metadata": {},
     "output_type": "execute_result"
    }
   ],
   "source": [
    "end_session(\"2022-02-03-2207454ac073674a29e406802715c09bf736eb\", release_resources_now=true)"
   ]
  },
  {
   "cell_type": "code",
   "execution_count": 9,
   "metadata": {},
   "outputs": [
    {
     "data": {
      "text/plain": [
       "\"\\r\\n\\r\\n\\r\\n# using Logging\\r\\n# using MPI\\r\\n# using JLD2\\r\\n# using BenchmarkTools\\r\\n\\r\\n# using Oceananigans\\r\\n# using Oceananigans.Distributed\\r\\n# using Benchmarks\\r\\n\\r\\n# Logging.global_logger(OceananigansLogger())\\r\\n\\r\\nMPI.Init()\\r\\n\\r\\n@show MPI.Comm_rank(MPI.COMM_WORLD)\\r\\n#       comm = MPI.COMM_WORLD\\r\\n# local_rank = MPI.Comm_rank(comm)\\r\\n#          R = MPI.Comm_size(comm)\\r\\n\\r\\n#  #assigns one GPU per rank, could increase efficiency but must have enough GPUs\\r\\n#  #CUDA.device!(local_rank)\\r\\n\\r\\n# Nx = parse(Int, ARGS[1])\\r\\n# Ny = parse(Int, ARGS[2])\\r\\n# Rx = parse(Int, ARGS[3])\\r\\n# Ry = parse(Int, ARGS[4])\\r\\n\\r\\n# @assert Rx * Ry == R\\r\\n\\r\\n# @info \\\"Setting up distributed shallow water model with N=(\\$Nx, \\$Ny) grid points and ranks=(\\$Rx, \\$Ry) on rank \\$local_rank...\\\"\\r\\n\\r\\n# topo = (Periodic, Periodic, Flat)\\r\\n# distributed_grid = RectilinearGrid(topology=topo, size=(Nx, Ny), extent=(1, 1))\\r\\n# arch = MultiCPU(grid=distributed_grid, ranks=(Rx, Ry, 1))\\r\\n# model = DistributedShallowWaterModel(architecture=arch, grid=distributed_grid, gravitational_acceleration=1.0)\\r\\n# set!(model, h=1.0)\\r\\n\\r\\n# @info \\\"Warming up distributed shallow water model on rank \\$local_rank...\\\"\\r\\n\\r\\n# time_step!(model, 1) # warmup\\r\\n\\r\\n# @info \\\"Benchmarking distributed shallow water model on rank \\$local_rank...\\\"\\r\\n\\r\\n# MPI.Barrier(comm)\\r\\n\\r\\n# trial = @benchmark begin\\r\\n#     @sync_gpu time_step!(\\$model, 1)\\r\\n# end samples=10 evals=1\\r\\n\\r\\n# MPI.Barrier(comm)\\r\\n\\r\\n# t_median = BenchmarkTools.prettytime(median(trial).time)\\r\\n# @info \\\"Done benchmarking on rank \\$(local_rank). Median time: \\$t_median\\\"\\r\\n\\r\\n# jldopen(\\\"distributed_shallow_water_model_\\$(R)ranks_\\$local_rank.jld2\\\", \\\"w\\\") do file\\r\\n#     file[\\\"trial\\\"] = trial\\r\\n# end\""
      ]
     },
     "execution_count": 9,
     "metadata": {},
     "output_type": "execute_result"
    }
   ],
   "source": [
    "import Pkg; Pkg.add(\"AWSS3\")\n",
    "using AWSS3\n",
    "read(S3Path(\"s3://banyan-cluster-data-iris-df-analysis-98dc37b9/model.jl\"),String)"
   ]
  },
  {
   "cell_type": "code",
   "execution_count": null,
   "metadata": {},
   "outputs": [],
   "source": []
  }
 ],
 "metadata": {
  "kernelspec": {
   "display_name": "Julia 1.6.1",
   "language": "julia",
   "name": "julia-1.6"
  },
  "language_info": {
   "file_extension": ".jl",
   "mimetype": "application/julia",
   "name": "julia",
   "version": "1.6.1"
  }
 },
 "nbformat": 4,
 "nbformat_minor": 2
}
