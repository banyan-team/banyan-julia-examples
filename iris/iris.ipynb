{
 "cells": [
  {
   "cell_type": "markdown",
   "source": [
    "# Iris Dataset - Simple DataFrames Analysis\r\n",
    "\r\n",
    "In this notebook, we will walk through an example of using BanyanDataFrames to\r\n",
    "perform some simple data analysis on iris.csv"
   ],
   "metadata": {}
  },
  {
   "cell_type": "code",
   "execution_count": 10,
   "source": [
    "# To re-create the environment elsewhere, either copy the Project.toml and Manifest.toml\r\n",
    "# into another directory. Or, copy this notebook into another directory and uncomment\r\n",
    "# and run the following code.\r\n",
    "\r\n",
    "# using Pkg\r\n",
    "# Pkg.activate(\"./\")\r\n",
    "# Pkg.add(url=\"https://github.com/banyan-team/banyan-julia.git\", rev=\"v0.1.3\", subdir=\"Banyan\")\r\n",
    "# Pkg.add(url=\"https://github.com/banyan-team/banyan-julia.git\", rev=\"v0.1.3\", subdir=\"BanyanDataFrames\")"
   ],
   "outputs": [],
   "metadata": {}
  },
  {
   "cell_type": "markdown",
   "source": [
    "## Configuring\r\n",
    "\r\n",
    "Banyan is used to perform some data analysis on the Iris Dataset. To run this\r\n",
    "example, please ensure that you have an Banyan account and an AWS account.\r\n",
    "\r\n",
    "To configure your AWS credentials, you can run the second cell below to set\r\n",
    "your AWS credentials. Run the third cell below to set your Banyan credentials.\r\n",
    "\r\n",
    "You must pass your User ID and API Key to the `configure` function in order\r\n",
    "to authenticate. You can find this information on the Account page of the\r\n",
    "Banyan Dashboard. After running this block, your credentials will be saved\r\n",
    "in `$HOME/.banyan/banyanconfig.toml` and will be read from that file in the\r\n",
    "future."
   ],
   "metadata": {}
  },
  {
   "cell_type": "code",
   "execution_count": 7,
   "source": [
    "# Import packages\r\n",
    "using Banyan\r\n",
    "using BanyanDataFrames"
   ],
   "outputs": [],
   "metadata": {}
  },
  {
   "cell_type": "code",
   "execution_count": 11,
   "source": [
    "# Run the following to configure the AWS CLI. If you have already configured\r\n",
    "# the AWS CLI with the credentials for the account you have configured with\r\n",
    "# your Banyan account, you can skip this step.\r\n",
    "\r\n",
    "print(\"Enter AWS_ACCESS_KEY_ID: \\n\")\r\n",
    "ENV[\"AWS_ACCESS_KEY_ID\"] = readline()\r\n",
    "print(\"Enter AWS_SECRET_ACCESS_KEY: \\n\")\r\n",
    "ENV[\"AWS_SECRET_ACCESS_KEY\"] = readline()\r\n",
    "print(\"Enter AWS_DEFAULT_REGION: \\n\")\r\n",
    "ENV[\"AWS_DEFAULT_REGION\"] = readline()"
   ],
   "outputs": [],
   "metadata": {}
  },
  {
   "cell_type": "code",
   "execution_count": 12,
   "source": [
    "print(\"Please enter your User ID: \\n\")\r\n",
    "user_id = readline()\r\n",
    "print(\"Please enter your API Key: \\n\")\r\n",
    "api_key = readline()\r\n",
    "\r\n",
    "# Configures Banyan client library with your Banyan credentials\r\n",
    "configure(user_id=user_id, api_key=api_key)"
   ],
   "outputs": [],
   "metadata": {}
  },
  {
   "cell_type": "markdown",
   "source": [
    "## Creating a cluster\r\n",
    "\r\n",
    "For this example, you can either use an existing cluster or create a new cluster.\r\n",
    "Run the following code block and enter in either the name of an existing cluster\r\n",
    "or the name you would like to use for a new cluster.\r\n",
    "\r\n",
    "In the cell below, you can change `instance_type` to create a cluster with a\r\n",
    "different EC2 instance type that may have a larger amount of memory or threads,\r\n",
    "and you can change the `max_num_nodes` to indicate the maximum amount of resources\r\n",
    "you would like to have allocated for your cluster at any given time."
   ],
   "metadata": {}
  },
  {
   "cell_type": "code",
   "execution_count": 13,
   "source": [
    "print(\"Cluster name for existing cluster or new cluster: \")\r\n",
    "cluster_name = readline()\r\n",
    "println(cluster_name)\r\n",
    "clusters = get_clusters()\r\n",
    "println(\"You have $(length(filter(c -> last(c).status == :running, clusters))) running clusters\")\r\n",
    "if !(haskey(clusters, cluster_name) && clusters[cluster_name].status == :running)\r\n",
    "    println(\"Creating new cluster $(cluster_name)\")\r\n",
    "    create_cluster(\r\n",
    "        name=cluster_name,\r\n",
    "        instance_type=\"t3.large\",\r\n",
    "        max_num_nodes=4,\r\n",
    "    )\r\n",
    "else\r\n",
    "    println(\"Using existing cluster $(cluster_name)\")\r\n",
    "end"
   ],
   "outputs": [],
   "metadata": {}
  },
  {
   "cell_type": "code",
   "execution_count": 14,
   "source": [
    "# Create a job\r\n",
    "job_id = create_job(\r\n",
    "    cluster_name = cluster_name,\r\n",
    "    nworkers = 2,\r\n",
    "    print_logs = true\r\n",
    ")"
   ],
   "outputs": [],
   "metadata": {}
  },
  {
   "cell_type": "markdown",
   "source": [
    "## Performing computation on a dataframe\r\n",
    "\r\n",
    "The following code compute the average petal length for each species for\r\n",
    "flowers with a petal length less than 6.0.\r\n",
    "\r\n",
    "Note that the API for performing various operations on dataframes is the same as that\r\n",
    "of the DataFrames library."
   ],
   "metadata": {}
  },
  {
   "cell_type": "code",
   "execution_count": 15,
   "source": [
    "# Perform computation\r\n",
    "\r\n",
    "using Statistics\r\n",
    "\r\n",
    "# ...\r\n",
    "iris = read_csv(\"https://raw.githubusercontent.com/banyan-team/banyan-julia/v0.1.3/BanyanDataFrames/res/iris.csv\")\r\n",
    "\r\n",
    "# Filters the rows based on whether the petal length is less than 6.0\r\n",
    "iris_sub = filter(row -> row.petal_length < 6.0, iris)\r\n",
    "\r\n",
    "# Groups the rows by the species type\r\n",
    "gdf = groupby(iris_sub, :species)\r\n",
    "\r\n",
    "# Computes average petal length for each group and stores in a new\r\n",
    "# DataFrame. Collects the result back to the client and materializes in\r\n",
    "# the variable `avg_pl`.\r\n",
    "avg_pl = collect(combine(gdf, :petal_length => mean))\r\n"
   ],
   "outputs": [],
   "metadata": {}
  },
  {
   "cell_type": "markdown",
   "source": [
    "## Cleanup resources\r\n",
    "\r\n",
    "After running your desired computation, we suggest that you destroy your running\r\n",
    "job so that you are not charged for resources when you are not using them. You\r\n",
    "may choose to keep your cluster running.\r\n",
    "\r\n",
    "Run the following code block to destroy the job that you created in this example."
   ],
   "metadata": {}
  },
  {
   "cell_type": "code",
   "execution_count": null,
   "source": [
    "# Destroy job\r\n",
    "destroy_job(job_id)"
   ],
   "outputs": [],
   "metadata": {}
  },
  {
   "cell_type": "code",
   "execution_count": null,
   "source": [],
   "outputs": [],
   "metadata": {}
  }
 ],
 "metadata": {
  "orig_nbformat": 4,
  "language_info": {
   "file_extension": ".jl",
   "name": "julia",
   "mimetype": "application/julia",
   "version": "1.6.1"
  },
  "kernelspec": {
   "name": "julia-1.6",
   "display_name": "Julia 1.6.1",
   "language": "julia"
  }
 },
 "nbformat": 4,
 "nbformat_minor": 2
}